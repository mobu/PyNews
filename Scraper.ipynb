{
 "cells": [
  {
   "cell_type": "code",
   "execution_count": 12,
   "metadata": {},
   "outputs": [],
   "source": [
    "import requests\n",
    "import json\n",
    "import numpy as np\n",
    "import pandas as pd\n",
    "import urllib.parse\n",
    "import re\n",
    "from newspaper import Article"
   ]
  },
  {
   "cell_type": "code",
   "execution_count": 17,
   "metadata": {},
   "outputs": [
    {
     "name": "stdout",
     "output_type": "stream",
     "text": [
      "Gathering article...\n",
      "Done.\n"
     ]
    }
   ],
   "source": [
    "query = 'gun AND (gun control)'           #use AND/OR/NOT keywords like this (syria AND trump) NOT USA\n",
    "query = urllib.parse.quote(query)\n",
    "date = '2018-04-22'\n",
    "source = 'breitbart'\n",
    "\n",
    "url_list = []\n",
    "article_list = []\n",
    "\n",
    "url = ('https://newsapi.org/v2/everything?'\n",
    "       'q={}&'\n",
    "       'from={}&'\n",
    "       'sortBy=popularity&'\n",
    "       'sources={}&apiKey=d878fe697fb242269bae9d3361e6d299').format(query,date,source)\n",
    "\n",
    "response = requests.get(url).json()\n",
    "\n",
    "print('Gathering article...')\n",
    "for k in response['articles']:\n",
    "    url = k['url']\n",
    "    article = Article(url)\n",
    "    article.download()\n",
    "    article.parse()\n",
    "    url_list.append(url)\n",
    "    article_list.append(article.text)\n",
    "\n",
    "print('Done.')\n",
    "\n",
    "data = pd.DataFrame({'URL':url_list,'Content':article_list})\n",
    "\n",
    "date = re.sub('-','',date)\n",
    "data.to_json('{}-{}{}.json'.format(query,source,date))   "
   ]
  },
  {
   "cell_type": "code",
   "execution_count": null,
   "metadata": {},
   "outputs": [],
   "source": []
  }
 ],
 "metadata": {
  "kernelspec": {
   "display_name": "Python 3",
   "language": "python",
   "name": "python3"
  },
  "language_info": {
   "codemirror_mode": {
    "name": "ipython",
    "version": 3
   },
   "file_extension": ".py",
   "mimetype": "text/x-python",
   "name": "python",
   "nbconvert_exporter": "python",
   "pygments_lexer": "ipython3",
   "version": "3.6.4"
  }
 },
 "nbformat": 4,
 "nbformat_minor": 2
}
